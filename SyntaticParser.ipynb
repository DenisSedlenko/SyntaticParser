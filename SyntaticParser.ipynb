{
 "cells": [
  {
   "cell_type": "markdown",
   "metadata": {},
   "source": [
    "<h1>Туториал по теме \"Синтаксические парсеры русского языка\"</h1>"
   ]
  },
  {
   "cell_type": "markdown",
   "metadata": {},
   "source": [
    "Цель данной работы заключается в создании парсера русского языка, т.е. программы, которая на вход бы принимала произвольный текст, а на выходе выдавала бы его синтаксическую структуру. Например, так:"
   ]
  },
  {
   "cell_type": "markdown",
   "metadata": {},
   "source": [
    "> \"Мама мыла раму\":\n",
    "\n",
    "> (предложение\n",
    "    (именная гр. (сущ мама))\n",
    "    (глаг. гр. (глаг мыла)\n",
    "        (именная гр. (сущ раму)))\n",
    "    (. .)))"
   ]
  },
  {
   "cell_type": "markdown",
   "metadata": {},
   "source": [
    "Это называется синтаксическим деревом предложения. В графическом виде его можно представить следующим образом (в упрощенном виде):"
   ]
  },
  {
   "cell_type": "markdown",
   "metadata": {},
   "source": [
    "![Tree of sentence](https://habrastorage.org/storage2/951/7d8/1f4/9517d81f4df9c48bbb35864f98e70f3a.png)"
   ]
  },
  {
   "cell_type": "markdown",
   "metadata": {},
   "source": [
    "Существует два основных подхода при создании синтаксического парсера:\n",
    "\n",
    "* Метод, основанный на правилах (rule based)\n",
    "* Машинное обучение с учителем (supervised machine learning)"
   ]
  },
  {
   "cell_type": "markdown",
   "metadata": {},
   "source": [
    "Метод, основанный на правилах, применяется практически во всех коммерческих системах, т.к. он дает наибольшую точность. Основная идея заключается в создании набора правил, которые определяют, как проставлять связи в предложении. Например, в нашем предложении «Мама мыла раму» мы можем применять следующие правила (допустим, что мы уже сняли все неоднозначности и точно знаем грамматические категории слов):\n",
    "\n",
    "слово («мама») в именительном падеже, женском роде и единственном числе должно зависеть от глагола («мыла») в единственном числе, прошедшем времени, женском роде и тип связи должен быть «субъект»\n",
    "слово («раму») в винительном падеже должно зависеть от глагола и тип связи должен быть «объект»."
   ]
  },
  {
   "cell_type": "markdown",
   "metadata": {},
   "source": [
    "Данный подход очень ресурсоемок, т.к. для создания парсера требуется хорошая команда лингвистов, которые должны буквально описать весь русский язык. Поэтому нам более интересен второй подход — машинное обучение с учителем.\n",
    "\n",
    "Идея в парсинге, использующем машинном обучение, как и во всех остальных задачах машинного обучения довольно таки проста: мы даем компьютеру много примеров с правильными ответами, на которых система должна обучиться самостоятельно. Чтобы обучить синтаксические парсеры — в качестве данных для обучения используют специально размеченные корпуса (treebanks), коллекции текстов, в которых размечена синтаксическая структура. Наше предложение в таком корпусе может выглядеть следующим образом:"
   ]
  },
  {
   "cell_type": "markdown",
   "metadata": {},
   "source": [
    "> 1\tМама\tсущ.им.ед.жен.\t2\tсубъект\n",
    "\n",
    "> 2\tмыла\tглаг.ед.жен.прош\t0\t-\n",
    "\n",
    "> 3\tраму\tсущ.вин.ед.жен.\t2\tобъект"
   ]
  },
  {
   "cell_type": "markdown",
   "metadata": {},
   "source": [
    "В этом формате мы записываем каждое предложение в виде строки, где каждая строка описывает отдельное слово в виде записей разделенных табуляцией. Для каждого слова нам нужно хранить следующие данные: \n",
    "\n",
    "* номер слова в предложении (1)\n",
    "* словоформа (мама)\n",
    "* грамматические категории (сущ.им.ед.жен.)\n",
    "* номер главного слова (2)\n",
    "* тип связи (субъект)"
   ]
  },
  {
   "cell_type": "markdown",
   "metadata": {},
   "source": [
    "<h2>Размеченный корпус</h2>"
   ]
  },
  {
   "cell_type": "markdown",
   "metadata": {},
   "source": [
    "Чтобы обучить новую языковую модель нам потребуется размеченный корпус. Для русского языка был выбран корпус от команды <a href=\"http://opencorpora.org\"><b>OpenCorpora</b></a>. Корпус представляет собой набор текстов размеченных в формате XML:"
   ]
  },
  {
   "cell_type": "markdown",
   "metadata": {},
   "source": [
    "Для начала нам нужно распарсить XML документ и определить необходимые данные."
   ]
  },
  {
   "cell_type": "code",
   "execution_count": 6,
   "metadata": {},
   "outputs": [],
   "source": [
    "def read_data(corpus_root):\n",
    "    conllu_set = []\n",
    "    for root, dirs, files in os.walk(corpus_root):\n",
    "        for filename in files:\n",
    "            if filename.endswith(\".xml\"):\n",
    "                xmldoc = parse(root + '/' + filename)\n",
    "                sentencelist = xmldoc.getElementsByTagName('sentence')\n",
    "                for sentence in sentencelist:\n",
    "                    for token in sentence.getElementsByTagName('token'):\n",
    "                        text = r''.join(token.attributes['text'].value).encode('utf-8')\n",
    "                        id_token = r''.join(token.getElementsByTagName('l')[0].attributes['id'].value).encode('utf-8')\n",
    "                        inf_token = [ r''.join(g.attributes['v'].value).encode('utf-8') for g in token.getElementsByTagName('g')]\n",
    "                        conllu_set.append(to_conllu(text, id_token, inf_token))\n",
    "    return conllu_set"
   ]
  },
  {
   "cell_type": "markdown",
   "metadata": {},
   "source": [
    "Собственно сам метод  для перевода даннных в формат malttab."
   ]
  },
  {
   "cell_type": "code",
   "execution_count": 2,
   "metadata": {},
   "outputs": [],
   "source": [
    "def to_conllu(text, id_token, inf_token):\n",
    "    return str(text) + ' ' + '.'.join(inf_token[1:]) + ' ' + str(id_token) + ' ' + str(inf_token[0])"
   ]
  },
  {
   "cell_type": "markdown",
   "metadata": {},
   "source": [
    "Приступим к практике. Импортируем необходмые классы:"
   ]
  },
  {
   "cell_type": "code",
   "execution_count": 1,
   "metadata": {},
   "outputs": [],
   "source": [
    "from nltk.parse.malt import MaltParser\n",
    "import os\n",
    "import string\n",
    "import collections\n",
    "from xml.dom.minidom import parse\n",
    "from nltk import word_tokenize, pos_tag"
   ]
  },
  {
   "cell_type": "markdown",
   "metadata": {
    "collapsed": true
   },
   "source": [
    "Наша программа будет состоять из следующих частей:\n",
    "* Считываем набор\n",
    "* Определяем тестовые и тренировачные данные.\n",
    "* Обучаем систему.\n",
    "* Токенезируем (делим на слова) наш \"рабочий\" текст.\n",
    "* При помощи метода pos_tag определяем части речи.\n",
    "* При помощи метода parse класса MaltParser выполняем синтаксический анализ\n",
    "* Результат выводим на экран.\n",
    "\n",
    "**Все методы задействованные в процессе будут рассмотрены ниже**"
   ]
  },
  {
   "cell_type": "code",
   "execution_count": null,
   "metadata": {},
   "outputs": [],
   "source": [
    "#указываем директорию с нашим размеченным корпусом\n",
    "corpus_root = 'corpus'\n",
    "#считываем данные\n",
    "reader = read_data(corpus_root)\n",
    "data = list(reader)\n",
    "#тренировочные данные\n",
    "training_samples = data[:int(len(data) * 0.9)] # 3546 sentences or >1000000 words  \n",
    "#тестовые данные\n",
    "test_samples = data[int(len(data) * 0.9):] # 154 sentences or >100000 words"
   ]
  },
  {
   "cell_type": "markdown",
   "metadata": {},
   "source": [
    "Есть несколько открытых парсеров, которые можно обучить для работы с русским языком. Вот два, которые наиболее популярные:\n",
    "\n",
    "* MST Parser, основанных на задаче нахождения минимального остовного дерева\n",
    "* MaltParser, основан на машинном обучении (хотя и MST Parser тоже, но там немного другая идея)\n",
    "\n",
    "Обучение MST-парсера занимает гораздо больше времени и он также дает худшие результаты по сравнению с MaltParser, поэтому далее мы сфокусируемся на втором из них. Еще одним главным преимуществом данного парсера, он входит в состав пакета NLTK. "
   ]
  },
  {
   "cell_type": "code",
   "execution_count": 2,
   "metadata": {},
   "outputs": [],
   "source": [
    "#инициализация инстанса MaltParser\n",
    "parser_dirname = 'maltparser-1.9.2'\n",
    "mp = MaltParser(parser_dirname)"
   ]
  },
  {
   "cell_type": "markdown",
   "metadata": {},
   "source": [
    "Обучим нашу модель."
   ]
  },
  {
   "cell_type": "code",
   "execution_count": 4,
   "metadata": {},
   "outputs": [],
   "source": [
    "#обучаем модель\n",
    "mp.train_from_file(os.getcwd() + '\\corpus\\\\ru_syntagrus-ud-train.conllu', verbose=False)"
   ]
  },
  {
   "cell_type": "markdown",
   "metadata": {},
   "source": [
    "Получим следующее синтаксическое дерево."
   ]
  },
  {
   "cell_type": "code",
   "execution_count": 7,
   "metadata": {},
   "outputs": [
    {
     "name": "stdout",
     "output_type": "stream",
     "text": [
      "1\tПомощь\t_\tNN\tNN\t_\t0\ta\t_\t_\n",
      "\n",
      "2\tэтой\t_\tNN\tNN\t_\t0\ta\t_\t_\n",
      "\n",
      "3\tстране\t_\tNN\tNN\t_\t0\ta\t_\t_\n",
      "\n",
      "4\tобычно\t_\tNN\tNN\t_\t0\ta\t_\t_\n",
      "\n",
      "5\tпоступает\t_\tNN\tNN\t_\t0\ta\t_\t_\n",
      "\n",
      "6\tизвне\t_\tNN\tNN\t_\t0\ta\t_\t_\n",
      "\n",
      "7\t.\t_\t.\t.\t_\t0\ta\t_\t_\n",
      "\n",
      "\n",
      "\n",
      "\n",
      "defaultdict(<function DependencyGraph.__init__.<locals>.<lambda> at 0x0000020390A80BF8>,\n",
      "            {0: {'address': 0,\n",
      "                 'ctag': 'TOP',\n",
      "                 'deps': defaultdict(<class 'list'>, {'root': [5]}),\n",
      "                 'feats': None,\n",
      "                 'head': None,\n",
      "                 'lemma': None,\n",
      "                 'rel': None,\n",
      "                 'tag': 'TOP',\n",
      "                 'word': None},\n",
      "             1: {'address': 1,\n",
      "                 'ctag': 'NOUN',\n",
      "                 'deps': defaultdict(<class 'list'>, {'nmod': [3]}),\n",
      "                 'feats': 'Animacy=Inan|Case=Nom|Gender=Fem|Number=Sing',\n",
      "                 'head': 5,\n",
      "                 'lemma': 'помощь',\n",
      "                 'rel': 'nsubj',\n",
      "                 'tag': '_',\n",
      "                 'word': 'Помощь'},\n",
      "             2: {'address': 2,\n",
      "                 'ctag': 'DET',\n",
      "                 'deps': defaultdict(<class 'list'>, {}),\n",
      "                 'feats': 'Case=Dat|Gender=Fem|Number=Sing',\n",
      "                 'head': 3,\n",
      "                 'lemma': 'этот',\n",
      "                 'rel': 'det',\n",
      "                 'tag': '_',\n",
      "                 'word': 'этой'},\n",
      "             3: {'address': 3,\n",
      "                 'ctag': 'NOUN',\n",
      "                 'deps': defaultdict(<class 'list'>, {'det': [2]}),\n",
      "                 'feats': 'Animacy=Inan|Case=Dat|Gender=Fem|Number=Sing',\n",
      "                 'head': 1,\n",
      "                 'lemma': 'страна',\n",
      "                 'rel': 'nmod',\n",
      "                 'tag': '_',\n",
      "                 'word': 'стране'},\n",
      "             4: {'address': 4,\n",
      "                 'ctag': 'ADV',\n",
      "                 'deps': defaultdict(<class 'list'>, {}),\n",
      "                 'feats': 'Degree=Pos',\n",
      "                 'head': 5,\n",
      "                 'lemma': 'обычно',\n",
      "                 'rel': 'advmod',\n",
      "                 'tag': '_',\n",
      "                 'word': 'обычно'},\n",
      "             5: {'address': 5,\n",
      "                 'ctag': 'VERB',\n",
      "                 'deps': defaultdict(<class 'list'>,\n",
      "                                     {'advmod': [4, 6],\n",
      "                                      'nsubj': [1],\n",
      "                                      'punct': [7]}),\n",
      "                 'feats': 'Aspect=Imp|Mood=Ind|Number=Sing|Person=3|Tense=Pres|VerbForm=Fin|Voice=Act',\n",
      "                 'head': 0,\n",
      "                 'lemma': 'поступать',\n",
      "                 'rel': 'root',\n",
      "                 'tag': '_',\n",
      "                 'word': 'поступает'},\n",
      "             6: {'address': 6,\n",
      "                 'ctag': 'ADV',\n",
      "                 'deps': defaultdict(<class 'list'>, {}),\n",
      "                 'feats': 'Degree=Pos',\n",
      "                 'head': 5,\n",
      "                 'lemma': 'извне',\n",
      "                 'rel': 'advmod',\n",
      "                 'tag': '_',\n",
      "                 'word': 'извне'},\n",
      "             7: {'address': 7,\n",
      "                 'ctag': 'PUNCT',\n",
      "                 'deps': defaultdict(<class 'list'>, {}),\n",
      "                 'feats': '_',\n",
      "                 'head': 5,\n",
      "                 'lemma': '.',\n",
      "                 'rel': 'punct',\n",
      "                 'tag': '_',\n",
      "                 'word': '.'}})\n"
     ]
    }
   ],
   "source": [
    "#парсим наше предложение\n",
    "mp.sentence = r'Помощь этой стране обычно поступает извне.'\n",
    "sent1 = word_tokenize(mp.sentence)\n",
    "print(mp.parse_one(sent1, top_relation_label='root'))"
   ]
  },
  {
   "cell_type": "markdown",
   "metadata": {},
   "source": [
    "Синтаксическое дерево на основе уже обученной модели для английского языка."
   ]
  },
  {
   "cell_type": "code",
   "execution_count": null,
   "metadata": {},
   "outputs": [],
   "source": [
    "mp = MaltParser(\"maltparser-1.9.2\",\"engmalt.poly-1.7.mco\")\n",
    "mp.sentence = ''\n",
    "sent1 = word_tokenize('What is your name')\n",
    "print(mp.parse_one(sent1).tree())"
   ]
  }
 ],
 "metadata": {
  "kernelspec": {
   "display_name": "Python 3",
   "language": "python",
   "name": "python3"
  },
  "language_info": {
   "codemirror_mode": {
    "name": "ipython",
    "version": 3
   },
   "file_extension": ".py",
   "mimetype": "text/x-python",
   "name": "python",
   "nbconvert_exporter": "python",
   "pygments_lexer": "ipython3",
   "version": "3.7.0"
  }
 },
 "nbformat": 4,
 "nbformat_minor": 1
}
